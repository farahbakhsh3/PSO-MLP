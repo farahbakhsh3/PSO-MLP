{
 "cells": [
  {
   "cell_type": "code",
   "metadata": {
    "ExecuteTime": {
     "end_time": "2024-07-09T16:07:05.526673Z",
     "start_time": "2024-07-09T16:07:05.508409Z"
    }
   },
   "source": [
    "y = [1, 2 ,3]\n",
    "pred = [1.1, 2, 3]\n",
    "\n",
    "# sum([a == b for a, b in zip(y, pred)]) / len(y)\n",
    "z = zip(y, pred)\n"
   ],
   "outputs": [],
   "execution_count": 1
  },
  {
   "cell_type": "code",
   "metadata": {
    "ExecuteTime": {
     "end_time": "2024-07-09T16:07:05.612738Z",
     "start_time": "2024-07-09T16:07:05.595281Z"
    }
   },
   "source": [
    "for d in z:\n",
    "    print(d)"
   ],
   "outputs": [
    {
     "name": "stdout",
     "output_type": "stream",
     "text": [
      "(1, 1.1)\n",
      "(2, 2)\n",
      "(3, 3)\n"
     ]
    }
   ],
   "execution_count": 2
  },
  {
   "cell_type": "code",
   "metadata": {
    "ExecuteTime": {
     "end_time": "2024-07-09T16:07:05.696267Z",
     "start_time": "2024-07-09T16:07:05.669413Z"
    }
   },
   "source": [
    "new = [a == b for a, b in zip(y, pred)]"
   ],
   "outputs": [],
   "execution_count": 3
  },
  {
   "cell_type": "code",
   "metadata": {
    "ExecuteTime": {
     "end_time": "2024-07-09T16:07:05.757567Z",
     "start_time": "2024-07-09T16:07:05.732652Z"
    }
   },
   "source": [
    "new"
   ],
   "outputs": [
    {
     "data": {
      "text/plain": [
       "[False, True, True]"
      ]
     },
     "execution_count": 4,
     "metadata": {},
     "output_type": "execute_result"
    }
   ],
   "execution_count": 4
  },
  {
   "cell_type": "code",
   "metadata": {
    "ExecuteTime": {
     "end_time": "2024-07-09T16:07:05.810900Z",
     "start_time": "2024-07-09T16:07:05.798040Z"
    }
   },
   "source": [
    "score = sum([a == b for a, b in zip(y, pred)]) / len(y)"
   ],
   "outputs": [],
   "execution_count": 5
  },
  {
   "cell_type": "code",
   "metadata": {
    "ExecuteTime": {
     "end_time": "2024-07-09T16:07:05.862231Z",
     "start_time": "2024-07-09T16:07:05.842635Z"
    }
   },
   "source": [
    "loss = 1 - score"
   ],
   "outputs": [],
   "execution_count": 6
  },
  {
   "cell_type": "code",
   "metadata": {
    "ExecuteTime": {
     "end_time": "2024-07-09T16:07:05.920896Z",
     "start_time": "2024-07-09T16:07:05.900696Z"
    }
   },
   "source": [
    "score ,loss"
   ],
   "outputs": [
    {
     "data": {
      "text/plain": [
       "(0.6666666666666666, 0.33333333333333337)"
      ]
     },
     "execution_count": 7,
     "metadata": {},
     "output_type": "execute_result"
    }
   ],
   "execution_count": 7
  },
  {
   "cell_type": "code",
   "metadata": {
    "ExecuteTime": {
     "end_time": "2024-07-09T16:07:06.367092Z",
     "start_time": "2024-07-09T16:07:05.941210Z"
    }
   },
   "source": [
    "import numpy as np\n",
    "\n",
    "n = 200\n",
    "i = 5\n",
    "# generate random dataset\n",
    "x = np.random.normal(-1, 1, size=(n, i))\n",
    "# the class is defined by a real function applyed to x\n",
    "y = np.array([1 if sum(a) >= 1 else 0 for a in x])\n"
   ],
   "outputs": [],
   "execution_count": 8
  },
  {
   "cell_type": "code",
   "metadata": {
    "ExecuteTime": {
     "end_time": "2024-07-09T16:07:06.399779Z",
     "start_time": "2024-07-09T16:07:06.371268Z"
    }
   },
   "source": [
    "x.shape\n"
   ],
   "outputs": [
    {
     "data": {
      "text/plain": [
       "(200, 5)"
      ]
     },
     "execution_count": 9,
     "metadata": {},
     "output_type": "execute_result"
    }
   ],
   "execution_count": 9
  },
  {
   "cell_type": "code",
   "metadata": {
    "ExecuteTime": {
     "end_time": "2024-07-09T16:07:06.427166Z",
     "start_time": "2024-07-09T16:07:06.401790Z"
    }
   },
   "source": [
    "y.shape"
   ],
   "outputs": [
    {
     "data": {
      "text/plain": [
       "(200,)"
      ]
     },
     "execution_count": 10,
     "metadata": {},
     "output_type": "execute_result"
    }
   ],
   "execution_count": 10
  },
  {
   "cell_type": "code",
   "metadata": {
    "ExecuteTime": {
     "end_time": "2024-07-09T16:07:06.447659Z",
     "start_time": "2024-07-09T16:07:06.429121Z"
    }
   },
   "source": [
    "x[:5]"
   ],
   "outputs": [
    {
     "data": {
      "text/plain": [
       "array([[ 0.88556238, -1.66006096, -0.61922029,  0.43403703, -0.67685225],\n",
       "       [-2.51575492, -1.36110414, -0.6838041 , -2.07359045,  0.2155459 ],\n",
       "       [-0.35177013,  0.88547682, -0.3886091 , -1.27181701, -0.58620746],\n",
       "       [-0.27280172, -0.43588864, -0.78422533, -0.04100788,  0.84384075],\n",
       "       [-2.37444029, -2.3589428 , -0.57532982, -0.95275471,  0.15308974]])"
      ]
     },
     "execution_count": 11,
     "metadata": {},
     "output_type": "execute_result"
    }
   ],
   "execution_count": 11
  },
  {
   "cell_type": "code",
   "metadata": {
    "ExecuteTime": {
     "end_time": "2024-07-09T16:07:06.472265Z",
     "start_time": "2024-07-09T16:07:06.449169Z"
    }
   },
   "source": [
    "y[:5]"
   ],
   "outputs": [
    {
     "data": {
      "text/plain": [
       "array([0, 0, 0, 0, 0])"
      ]
     },
     "execution_count": 12,
     "metadata": {},
     "output_type": "execute_result"
    }
   ],
   "execution_count": 12
  },
  {
   "cell_type": "code",
   "metadata": {
    "ExecuteTime": {
     "end_time": "2024-07-09T17:15:47.965169Z",
     "start_time": "2024-07-09T17:15:47.955938Z"
    }
   },
   "source": [
    "\n",
    "x = np.argmax(np.array([[1,2,4],[25,3,1]]), axis=1)"
   ],
   "outputs": [],
   "execution_count": 45
  },
  {
   "metadata": {
    "ExecuteTime": {
     "end_time": "2024-07-09T17:15:49.835747Z",
     "start_time": "2024-07-09T17:15:49.826855Z"
    }
   },
   "cell_type": "code",
   "source": "print(x)",
   "outputs": [
    {
     "name": "stdout",
     "output_type": "stream",
     "text": [
      "[2 0]\n"
     ]
    }
   ],
   "execution_count": 46
  },
  {
   "metadata": {
    "ExecuteTime": {
     "end_time": "2024-07-09T16:37:41.356654Z",
     "start_time": "2024-07-09T16:37:41.329803Z"
    }
   },
   "cell_type": "code",
   "source": [
    "x = np.array([[120, 1,2,4,1,0,15, 0]])\n",
    "s = 1.0 / (1.0 + np.exp(-x))\n",
    "print(np.argmax(s, axis=1))\n"
   ],
   "outputs": [
    {
     "name": "stdout",
     "output_type": "stream",
     "text": [
      "[0]\n"
     ]
    }
   ],
   "execution_count": 24
  },
  {
   "metadata": {
    "ExecuteTime": {
     "end_time": "2024-07-09T16:48:17.142617Z",
     "start_time": "2024-07-09T16:48:17.133684Z"
    }
   },
   "cell_type": "code",
   "source": "x = np.array([[0,0],[0,1],[1,0],[1,1]])",
   "outputs": [],
   "execution_count": 25
  },
  {
   "metadata": {
    "ExecuteTime": {
     "end_time": "2024-07-09T16:48:21.972240Z",
     "start_time": "2024-07-09T16:48:21.963755Z"
    }
   },
   "cell_type": "code",
   "source": "x.shape",
   "outputs": [
    {
     "data": {
      "text/plain": [
       "(4, 2)"
      ]
     },
     "execution_count": 26,
     "metadata": {},
     "output_type": "execute_result"
    }
   ],
   "execution_count": 26
  },
  {
   "metadata": {
    "ExecuteTime": {
     "end_time": "2024-07-09T16:49:05.210203Z",
     "start_time": "2024-07-09T16:49:05.202309Z"
    }
   },
   "cell_type": "code",
   "source": "x = np.array([1,1,1,2,3,34,2,])",
   "outputs": [],
   "execution_count": 27
  },
  {
   "metadata": {
    "ExecuteTime": {
     "end_time": "2024-07-09T16:49:07.873142Z",
     "start_time": "2024-07-09T16:49:07.863741Z"
    }
   },
   "cell_type": "code",
   "source": "x.shape",
   "outputs": [
    {
     "data": {
      "text/plain": [
       "(7,)"
      ]
     },
     "execution_count": 28,
     "metadata": {},
     "output_type": "execute_result"
    }
   ],
   "execution_count": 28
  },
  {
   "metadata": {
    "ExecuteTime": {
     "end_time": "2024-07-09T16:52:35.620486Z",
     "start_time": "2024-07-09T16:52:35.606879Z"
    }
   },
   "cell_type": "code",
   "source": [
    "# XOR\n",
    "x = [\n",
    "    [0, 0],\n",
    "    [0, 1],\n",
    "    [1, 0],\n",
    "    [1, 1]\n",
    "]\n",
    "y = [0, 1, 1, 0]\n",
    "\n",
    "x = np.array(x)\n",
    "y = np.array(y)\n",
    "\n",
    "hlayers = (10, 5)\n",
    "\n",
    "\n",
    "n_in = 1 if len(x.shape) == 1 else x.shape[1]\n",
    "n_out = 1 if len(y.shape) == 1 else y.shape[1]\n",
    "layers = [n_in, *hlayers, n_out]\n"
   ],
   "outputs": [],
   "execution_count": 34
  },
  {
   "metadata": {
    "ExecuteTime": {
     "end_time": "2024-07-09T16:52:36.215304Z",
     "start_time": "2024-07-09T16:52:36.209008Z"
    }
   },
   "cell_type": "code",
   "source": [
    "\n",
    "print(n_in, layers, n_out)\n"
   ],
   "outputs": [
    {
     "name": "stdout",
     "output_type": "stream",
     "text": [
      "2 [2, 10, 5, 1] 1\n"
     ]
    }
   ],
   "execution_count": 35
  },
  {
   "metadata": {
    "ExecuteTime": {
     "end_time": "2024-07-09T17:56:23.522237Z",
     "start_time": "2024-07-09T17:56:23.453915Z"
    }
   },
   "cell_type": "code",
   "source": [
    "y = [0, 1, 1, 0] \n",
    "pred = [[0], \n",
    "        [1],\n",
    "        [1],\n",
    "        [0]]\n"
   ],
   "outputs": [],
   "execution_count": 83
  },
  {
   "metadata": {
    "ExecuteTime": {
     "end_time": "2024-07-09T17:56:24.167981Z",
     "start_time": "2024-07-09T17:56:24.145681Z"
    }
   },
   "cell_type": "code",
   "source": [
    "y = np.array(y)\n",
    "pred = np.array(pred)"
   ],
   "outputs": [],
   "execution_count": 84
  },
  {
   "metadata": {
    "ExecuteTime": {
     "end_time": "2024-07-09T17:56:24.816517Z",
     "start_time": "2024-07-09T17:56:24.808286Z"
    }
   },
   "cell_type": "code",
   "source": [
    "for a, b in zip(y, pred):\n",
    "    print(a, b[0])\n"
   ],
   "outputs": [
    {
     "name": "stdout",
     "output_type": "stream",
     "text": [
      "0 0\n",
      "1 1\n",
      "1 1\n",
      "0 0\n"
     ]
    }
   ],
   "execution_count": 85
  },
  {
   "metadata": {
    "ExecuteTime": {
     "end_time": "2024-07-09T17:56:26.016869Z",
     "start_time": "2024-07-09T17:56:26.005886Z"
    }
   },
   "cell_type": "code",
   "source": [
    "mse = sum([(a  - b[0])**2 for a, b in zip(y, pred)]) / len(y)\n",
    "print(mse)"
   ],
   "outputs": [
    {
     "name": "stdout",
     "output_type": "stream",
     "text": [
      "0.0\n"
     ]
    }
   ],
   "execution_count": 86
  },
  {
   "metadata": {},
   "cell_type": "code",
   "outputs": [],
   "execution_count": null,
   "source": ""
  }
 ],
 "metadata": {
  "kernelspec": {
   "display_name": "Python 3",
   "language": "python",
   "name": "python3"
  },
  "language_info": {
   "codemirror_mode": {
    "name": "ipython",
    "version": 3
   },
   "file_extension": ".py",
   "mimetype": "text/x-python",
   "name": "python",
   "nbconvert_exporter": "python",
   "pygments_lexer": "ipython3",
   "version": "3.11.8"
  }
 },
 "nbformat": 4,
 "nbformat_minor": 2
}
